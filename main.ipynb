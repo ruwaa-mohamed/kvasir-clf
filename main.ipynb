{
 "cells": [
  {
   "cell_type": "markdown",
   "metadata": {},
   "source": [
    "# <center> This is ML Classification Fun Trial on Kvasir Dataset</center>\n",
    "\n",
    "\n",
    "## 1) Dataset downloaded via command \n",
    "```bash\n",
    "wget https://datasets.simula.no/kvasir/data/kvasir-dataset.zip\n",
    "unzip kvasir-dataset.zip\n",
    "```\n",
    "Dataset description as per the website \n",
    "```\n",
    "\"Kvasir version 1\n",
    "\n",
    "The first version of the Kvasir dataset (v1) consists of 4,000 images in 8 classes showing anatomical landmarks, phatological findings or endoscopic procedures in the GI tract, i.e., 500 images for each class. The anatomical landmarks are Z-line, pylorus and cecum, while the pathological finding are esophagitis, polyps and ulcerative colitis. In addition, we provide two set of images related to removal of polyps, the \"dyed and lifted polyp\" and the \"dyed resection margins\".\n",
    "\n",
    "Kvasir Dataset v1\n",
    "\n",
    "The kvasir-dataset.zip (size 1.2 GB) archive contains 4,000 images, 8 classes, 500 images for each class. The images are stored in the separate folders named accordingly to the name of the class images belongs to. The image files are encoded using JPEG compression. The encoding settings can vary across the dataset and they reflecting the a priori unknown endoscopic equipment settings. The extension of the image files is \".jpg\".\n",
    "\n",
    "Extracted Features (Kvasir Dataset v1)\n",
    "\n",
    "The kvasir-dataset-features.zip (size 4.7 MB) archive contains the extracted visual feature descriptors for all the image from the Kvasir Dataset. The extracted visual features are stored in the separate folders and files named accordingly to the name and the path of the corresponding image files. The extracted visual features are the global image features, namely: JCD, Tamura, ColorLayout, EdgeHistogram, AutoColorCorrelogram and PHOG. Each feature vector consists of a number of floating point values. The size of the vector depends on the feature. The size of the feature vectors are: 168 (JCD), 18 (Tamura), 33 (ColorLayout), 80 (EdgeHistogram), 256 (AutoColorCorrelogram) and 630 (PHOG). The extracted visual features are stored in the text files. Each file consists of eight lines, one line per each feature. Each line consists of a feature name separated from the feature vector by colon. Each feature vector consists of a corresponding number of floating point values separated by commas. The extension of the extracted visual feature files is \".features\".\"\n",
    "```\n",
    "\n",
    "## 2) Explore the data\n",
    "We have 8 directories, each with 500 .jpg images.\n",
    "Directories' names (classes' names): \n",
    "1. dyed-lifted-polyps\n",
    "2. dyed-resection-margins\n",
    "3. esophagitis\n",
    "4. normal-cecum\n",
    "5. normal-pylorus\n",
    "6. normal-z-line\n",
    "7. polyps\n",
    "8. ulcerative-colitis\n",
    "\n",
    "## 3) Downloading and Exploring the features' files\n",
    "using the following _Bash_ commands:\n",
    "``` bash\n",
    "wget https://datasets.simula.no/kvasir/data/kvasir-dataset-features.zip\n",
    "unzip kvasir-dataset-features.zip\n",
    "```\n",
    "The data organized in the sae way.. 8 directories.. each with 500 files (txt files in csv format but file name ending in .features)\n",
    "\n",
    "## 4) Analysis"
   ]
  },
  {
   "cell_type": "markdown",
   "metadata": {},
   "source": [
    "### Imporing Needed Libraries \n"
   ]
  },
  {
   "cell_type": "code",
   "execution_count": 29,
   "metadata": {},
   "outputs": [],
   "source": [
    "# importing libraries\n",
    "import os\n",
    "import glob\n",
    "import pandas as pd\n",
    "import matplotlib.pyplot as plt\n",
    "%matplotlib inline\n",
    "\n",
    "from sklearn.model_selection import train_test_split\n",
    "from sklearn.decomposition import PCA\n",
    "\n",
    "# Clf models\n",
    "from sklearn.svm import SVC\n",
    "from sklearn.discriminant_analysis import LinearDiscriminantAnalysis\n",
    "from sklearn.naive_bayes import GaussianNB\n",
    "from sklearn.tree import DecisionTreeClassifier\n",
    "from sklearn.linear_model import Perceptron"
   ]
  },
  {
   "cell_type": "markdown",
   "metadata": {},
   "source": [
    "### Reading the data (.features files)"
   ]
  },
  {
   "cell_type": "code",
   "execution_count": 19,
   "metadata": {},
   "outputs": [
    {
     "name": "stdout",
     "output_type": "stream",
     "text": [
      "dyed-lifted-polyps\n",
      "dyed-resection-margins\n",
      "esophagitis\n",
      "normal-cecum\n",
      "normal-pylorus\n",
      "normal-z-line\n",
      "polyps\n",
      "ulcerative-colitis\n",
      "\n",
      "0053d7cd-549c-48cd-b370-b4ad64a8098a.features\n",
      "ls: write error: Broken pipe\n",
      "\n",
      "JCD\n",
      "Tamura\n",
      "ColorLayout\n",
      "EdgeHistogram\n",
      "AutoColorCorrelogram\n",
      "PHOG\n"
     ]
    }
   ],
   "source": [
    "! ls kvasir-dataset-features -1\n",
    "! echo\n",
    "! ls kvasir-dataset-features/dyed-lifted-polyps/ -1 | head -1\n",
    "! echo\n",
    "! cat ./kvasir-dataset-features/dyed-lifted-polyps/0053d7cd-549c-48cd-b370-b4ad64a8098a.features | cut -d, -f 1 | cut -d: -f 1"
   ]
  },
  {
   "cell_type": "code",
   "execution_count": 3,
   "metadata": {},
   "outputs": [],
   "source": [
    "path = './kvasir-dataset-features/'\n",
    "data_classes = os.listdir(path)"
   ]
  },
  {
   "cell_type": "code",
   "execution_count": 3,
   "metadata": {},
   "outputs": [],
   "source": [
    "# Don't run this one again!\n",
    "# create 6 empty dataframes for the features \n",
    "JCD_df = pd.DataFrame()\n",
    "Tamura_df = pd.DataFrame()\n",
    "ColorLayout_df = pd.DataFrame()\n",
    "EdgeHistogram_df = pd.DataFrame()\n",
    "AutoColorCorrelogram_df = pd.DataFrame()\n",
    "PHOG_df = pd.DataFrame()\n",
    "    \n",
    "for data_class in data_classes:\n",
    "    # loop over the 8 directories.\n",
    "    sub_path = path + data_class + '/'\n",
    "    \n",
    "#     for file_name in os.listdir(sub_path):\n",
    "#         file_path = sub_path + file_name\n",
    "    for file_path in glob.iglob(sub_path + '*.features'):\n",
    "        file_name = file_path.split('/')[3]\n",
    "        # loop over the 500 sample in each directory\n",
    "        \n",
    "        # appending to the 6 datafreames preiouvesly created\n",
    "        # print(file_path)\n",
    "        file_object = open(file_path)\n",
    "        sample_name = data_class + '/' + file_name.split('.features')[0]\n",
    "        \n",
    "        JCD_df = JCD_df.append(pd.Series(file_object.readline().split(':')[1].rstrip('\\n').split(','), name = sample_name))\n",
    "        Tamura_df = Tamura_df.append(pd.Series(file_object.readline().split(':')[1].rstrip('\\n').split(','), name = sample_name))\n",
    "        ColorLayout_df = ColorLayout_df.append(pd.Series(file_object.readline().split(':')[1].rstrip('\\n').split(','), name = sample_name))\n",
    "        EdgeHistogram_df = EdgeHistogram_df.append(pd.Series(file_object.readline().split(':')[1].rstrip('\\n').split(','), name = sample_name))\n",
    "        AutoColorCorrelogram_df = AutoColorCorrelogram_df.append(pd.Series(file_object.readline().split(':')[1].rstrip('\\n').split(','), name = sample_name))\n",
    "        PHOG_df = PHOG_df.append(pd.Series(file_object.readline().split(':')[1].rstrip('\\n').split(','), name = sample_name))\n",
    "        \n",
    "        file_object.close()\n"
   ]
  },
  {
   "cell_type": "code",
   "execution_count": 5,
   "metadata": {},
   "outputs": [],
   "source": [
    "# # Saving all to df.csv files for easier reading\n",
    "# ! mkdir data\n",
    "# JCD_df.to_csv(r'./data/JCD_df.csv', header=False)\n",
    "# Tamura_df.to_csv(r'./data/Tamura_df.csv', header=False)\n",
    "# ColorLayout_df.to_csv(r'./data/ColorLayout_df.csv', header=False)\n",
    "# EdgeHistogram_df.to_csv(r'./data/EdgeHistogram_df.csv', header=False)\n",
    "# AutoColorCorrelogram_df.to_csv(r'./data/AutoColorCorrelogram_df.csv', header=False)\n",
    "# PHOG_df.to_csv(r'./data/PHOG_df.csv', header=False)"
   ]
  },
  {
   "cell_type": "code",
   "execution_count": 4,
   "metadata": {},
   "outputs": [],
   "source": [
    "# Reading from .csv files previously saved \n",
    "JCD_df = pd.read_csv(r'./data/JCD_df.csv', header=None)\n",
    "Tamura_df = pd.read_csv(r'./data/Tamura_df.csv', header=None)\n",
    "ColorLayout_df = pd.read_csv(r'./data/ColorLayout_df.csv', header=None)\n",
    "EdgeHistogram_df = pd.read_csv(r'./data/EdgeHistogram_df.csv', header=None)\n",
    "AutoColorCorrelogram_df = pd.read_csv(r'./data/AutoColorCorrelogram_df.csv', header=None)\n",
    "PHOG_df = pd.read_csv(r'./data/PHOG_df.csv', header=None)"
   ]
  },
  {
   "cell_type": "code",
   "execution_count": 9,
   "metadata": {},
   "outputs": [],
   "source": [
    "def try_model(model, X, y, split_size=0.40):\n",
    "    X_train, X_test, y_train, y_test = train_test_split(X, y, test_size=split_size, stratify=y)\n",
    "    clf_model = model\n",
    "    clf_model.fit(X_train, y_train)\n",
    "    acc_score = clf_model.score(X_test, y_test)\n",
    "    return (str(model).split('(')[0], round(acc_score, 2))"
   ]
  },
  {
   "cell_type": "code",
   "execution_count": 6,
   "metadata": {},
   "outputs": [],
   "source": [
    "# Defining all possible X and y.\n",
    "y = [item for item in data_classes for i in range(500)]\n",
    "\n",
    "JCD_X = JCD_df.drop(0, axis=1)\n",
    "Tamura_X = Tamura_df.drop(0, axis=1)\n",
    "ColorLayout_X = ColorLayout_df.drop(0, axis=1)\n",
    "EdgeHistogram_X = EdgeHistogram_df.drop(0, axis=1)\n",
    "AutoColorCorrelogram_X = AutoColorCorrelogram_df.drop(0, axis=1)\n",
    "PHOG_X = PHOG_df.drop(0, axis=1)"
   ]
  },
  {
   "cell_type": "code",
   "execution_count": 44,
   "metadata": {},
   "outputs": [
    {
     "data": {
      "text/plain": [
       "0.709375"
      ]
     },
     "execution_count": 44,
     "metadata": {},
     "output_type": "execute_result"
    }
   ],
   "source": [
    "svc_clf = SVC()\n",
    "svc_clf.fit(X_train, y_train)\n",
    "svc_clf.score(X_test, y_test)"
   ]
  },
  {
   "cell_type": "code",
   "execution_count": 26,
   "metadata": {},
   "outputs": [
    {
     "data": {
      "text/html": [
       "<div>\n",
       "<style scoped>\n",
       "    .dataframe tbody tr th:only-of-type {\n",
       "        vertical-align: middle;\n",
       "    }\n",
       "\n",
       "    .dataframe tbody tr th {\n",
       "        vertical-align: top;\n",
       "    }\n",
       "\n",
       "    .dataframe thead th {\n",
       "        text-align: right;\n",
       "    }\n",
       "</style>\n",
       "<table border=\"1\" class=\"dataframe\">\n",
       "  <thead>\n",
       "    <tr style=\"text-align: right;\">\n",
       "      <th></th>\n",
       "      <th>Accuracy</th>\n",
       "    </tr>\n",
       "  </thead>\n",
       "  <tbody>\n",
       "    <tr>\n",
       "      <th>SVC</th>\n",
       "      <td>0.73</td>\n",
       "    </tr>\n",
       "    <tr>\n",
       "      <th>LinearDiscriminantAnalysis</th>\n",
       "      <td>0.70</td>\n",
       "    </tr>\n",
       "    <tr>\n",
       "      <th>GaussianNB</th>\n",
       "      <td>0.53</td>\n",
       "    </tr>\n",
       "    <tr>\n",
       "      <th>DecisionTreeClassifier</th>\n",
       "      <td>0.64</td>\n",
       "    </tr>\n",
       "    <tr>\n",
       "      <th>Perceptron</th>\n",
       "      <td>0.64</td>\n",
       "    </tr>\n",
       "  </tbody>\n",
       "</table>\n",
       "</div>"
      ],
      "text/plain": [
       "                            Accuracy\n",
       "SVC                             0.73\n",
       "LinearDiscriminantAnalysis      0.70\n",
       "GaussianNB                      0.53\n",
       "DecisionTreeClassifier          0.64\n",
       "Perceptron                      0.64"
      ]
     },
     "execution_count": 26,
     "metadata": {},
     "output_type": "execute_result"
    }
   ],
   "source": [
    "models = [SVC(kernel='linear'), \n",
    "          LinearDiscriminantAnalysis(), \n",
    "          GaussianNB(), \n",
    "          DecisionTreeClassifier(), \n",
    "          Perceptron()]\n",
    "model_results = {}\n",
    "for model in models:\n",
    "    key, val = try_model(model, JCD_X, y, 0.20)\n",
    "    model_results[key] = val\n",
    "    \n",
    "df2 = pd.DataFrame(list(model_results.values()), list(model_results.keys()))\n",
    "df2.columns = [\"Accuracy\"]   \n",
    "df2"
   ]
  },
  {
   "cell_type": "code",
   "execution_count": 37,
   "metadata": {},
   "outputs": [
    {
     "data": {
      "image/png": "[encoded data removed]",
      "text/plain": [
       "<Figure size 432x288 with 1 Axes>"
      ]
     },
     "metadata": {
      "needs_background": "light"
     },
     "output_type": "display_data"
    }
   ],
   "source": [
    "# PCA\n",
    "pca = PCA(n_components=2)\n",
    "X_pca = pca.fit_transform(JCD_X)\n",
    "\n",
    "df3 = pd.DataFrame(dict(x=X_pca[:,0], y=X_pca[:,1], label=y))\n",
    "\n",
    "groups = df3.groupby('label')\n",
    "\n",
    "# Plot\n",
    "fig, ax = plt.subplots()\n",
    "ax.margins(0.05)\n",
    "for name, group in groups:\n",
    "    ax.plot(group.x, group.y, marker='.', linestyle='', ms=12, label=name)\n",
    "ax.legend()\n",
    "plt.title('PCA for JCD_X')\n",
    "plt.xlabel('PCA1_JCD')\n",
    "plt.ylabel('PCA2_JCD')\n",
    "plt.savefig('PCA_JCD.png')\n",
    "plt.show()\n",
    "# This feature (which produced the highest sep. score), is not linearly seperable!"
   ]
  }
 ],
 "metadata": {
  "kernelspec": {
   "display_name": "Python 3",
   "language": "python",
   "name": "python3"
  },
  "language_info": {
   "codemirror_mode": {
    "name": "ipython",
    "version": 3
   },
   "file_extension": ".py",
   "mimetype": "text/x-python",
   "name": "python",
   "nbconvert_exporter": "python",
   "pygments_lexer": "ipython3",
   "version": "3.6.9"
  }
 },
 "nbformat": 4,
 "nbformat_minor": 4
}
