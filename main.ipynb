{
 "cells": [
  {
   "cell_type": "markdown",
   "metadata": {},
   "source": [
    "# <center> This is ML Classification Fun Trial on Kvasir Dataset</center>\n",
    "\n",
    "\n",
    "## 1) Dataset downloaded via command \n",
    "```bash\n",
    "wget https://datasets.simula.no/kvasir/data/kvasir-dataset.zip\n",
    "unzip kvasir-dataset.zip\n",
    "```\n",
    "Dataset description as per the website \n",
    "```\n",
    "\"Kvasir version 1\n",
    "\n",
    "The first version of the Kvasir dataset (v1) consists of 4,000 images in 8 classes showing anatomical landmarks, phatological findings or endoscopic procedures in the GI tract, i.e., 500 images for each class. The anatomical landmarks are Z-line, pylorus and cecum, while the pathological finding are esophagitis, polyps and ulcerative colitis. In addition, we provide two set of images related to removal of polyps, the \"dyed and lifted polyp\" and the \"dyed resection margins\".\n",
    "\n",
    "Kvasir Dataset v1\n",
    "\n",
    "The kvasir-dataset.zip (size 1.2 GB) archive contains 4,000 images, 8 classes, 500 images for each class. The images are stored in the separate folders named accordingly to the name of the class images belongs to. The image files are encoded using JPEG compression. The encoding settings can vary across the dataset and they reflecting the a priori unknown endoscopic equipment settings. The extension of the image files is \".jpg\".\n",
    "\n",
    "Extracted Features (Kvasir Dataset v1)\n",
    "\n",
    "The kvasir-dataset-features.zip (size 4.7 MB) archive contains the extracted visual feature descriptors for all the image from the Kvasir Dataset. The extracted visual features are stored in the separate folders and files named accordingly to the name and the path of the corresponding image files. The extracted visual features are the global image features, namely: JCD, Tamura, ColorLayout, EdgeHistogram, AutoColorCorrelogram and PHOG. Each feature vector consists of a number of floating point values. The size of the vector depends on the feature. The size of the feature vectors are: 168 (JCD), 18 (Tamura), 33 (ColorLayout), 80 (EdgeHistogram), 256 (AutoColorCorrelogram) and 630 (PHOG). The extracted visual features are stored in the text files. Each file consists of eight lines, one line per each feature. Each line consists of a feature name separated from the feature vector by colon. Each feature vector consists of a corresponding number of floating point values separated by commas. The extension of the extracted visual feature files is \".features\".\"\n",
    "```\n",
    "\n",
    "## 2) Explore the data\n",
    "We have 8 directories, each with 500 .jpg images.\n",
    "Directories' names (classes' names): \n",
    "1. dyed-lifted-polyps\n",
    "2. dyed-resection-margins\n",
    "3. esophagitis\n",
    "4. normal-cecum\n",
    "5. normal-pylorus\n",
    "6. normal-z-line\n",
    "7. polyps\n",
    "8. ulcerative-colitis\n",
    "\n",
    "## 3) Downloading and Exploring the features' files\n",
    "using the following _Bash_ commands:\n",
    "``` bash\n",
    "wget https://datasets.simula.no/kvasir/data/kvasir-dataset-features.zip\n",
    "unzip kvasir-dataset-features.zip\n",
    "```\n",
    "The data organized in the sae way.. 8 directories.. each with 500 files (txt files in csv format but file name ending in .features)\n",
    "\n",
    "## 4) Analysis"
   ]
  },
  {
   "cell_type": "markdown",
   "metadata": {},
   "source": [
    "### Imporing Needed Libraries \n"
   ]
  },
  {
   "cell_type": "code",
   "execution_count": 1,
   "metadata": {},
   "outputs": [],
   "source": [
    "# importing libraries\n",
    "import os\n",
    "import glob\n",
    "import pandas as pd"
   ]
  },
  {
   "cell_type": "markdown",
   "metadata": {},
   "source": [
    "### Reading the data"
   ]
  },
  {
   "cell_type": "code",
   "execution_count": 2,
   "metadata": {},
   "outputs": [
    {
     "name": "stdout",
     "output_type": "stream",
     "text": [
      "dyed-lifted-polyps\n",
      "dyed-resection-margins\n",
      "esophagitis\n",
      "normal-cecum\n",
      "normal-pylorus\n",
      "normal-z-line\n",
      "polyps\n",
      "ulcerative-colitis\n",
      "\n",
      "JCD\n",
      "Tamura\n",
      "ColorLayout\n",
      "EdgeHistogram\n",
      "AutoColorCorrelogram\n",
      "PHOG\n"
     ]
    }
   ],
   "source": [
    "! ls kvasir-dataset-features -1\n",
    "! echo\n",
    "! cat ./kvasir-dataset-features/dyed-lifted-polyps/0053d7cd-549c-48cd-b370-b4ad64a8098a.features | cut -d, -f 1 | cut -d: -f 1"
   ]
  },
  {
   "cell_type": "code",
   "execution_count": null,
   "metadata": {},
   "outputs": [],
   "source": [
    "path = './kvasir-dataset-features/'\n",
    "data_classes = os.listdir(path)\n",
    "\n",
    "# create 6 empty dataframes for the features \n",
    "JCD_df = pd.DataFrame()\n",
    "Tamura_df = pd.DataFrame()\n",
    "ColorLayout_df = pd.DataFrame()\n",
    "EdgeHistogram_df = pd.DataFrame()\n",
    "AutoColorCorrelogram_df = pd.DataFrame()\n",
    "PHOG_df = pd.DataFrame()\n",
    "    \n",
    "for data_class in data_classes:\n",
    "    # loop over the 8 directories.\n",
    "    sub_path = path + data_class + '/'\n",
    "    \n",
    "#     for file_name in os.listdir(sub_path):\n",
    "#         file_path = sub_path + file_name\n",
    "    for file_path in glob.iglob(sub_path + '*.features'):\n",
    "        file_name = file_path.split('/')[3]\n",
    "        # loop over the 500 sample in each directory\n",
    "        \n",
    "        # appending to the 6 datafreames preiouvesly created\n",
    "        # print(file_path)\n",
    "        file_object = open(file_path)\n",
    "        sample_name = data_class + '/' + file_name.split('.features')[0]\n",
    "        \n",
    "        JCD_df = JCD_df.append(pd.Series(file_object.readline().split(':')[1].rstrip('\\n').split(','), name = sample_name))\n",
    "        Tamura_df = Tamura_df.append(pd.Series(file_object.readline().split(':')[1].rstrip('\\n').split(','), name = sample_name))\n",
    "        ColorLayout_df = ColorLayout_df.append(pd.Series(file_object.readline().split(':')[1].rstrip('\\n').split(','), name = sample_name))\n",
    "        EdgeHistogram_df = EdgeHistogram_df.append(pd.Series(file_object.readline().split(':')[1].rstrip('\\n').split(','), name = sample_name))\n",
    "        AutoColorCorrelogram_df = AutoColorCorrelogram_df.append(pd.Series(file_object.readline().split(':')[1].rstrip('\\n').split(','), name = sample_name))\n",
    "        PHOG_df = PHOG_df.append(pd.Series(file_object.readline().split(':')[1].rstrip('\\n').split(','), name = sample_name))\n",
    "        \n",
    "        file_object.close()\n"
   ]
  },
  {
   "cell_type": "code",
   "execution_count": null,
   "metadata": {},
   "outputs": [],
   "source": [
    "# Saving all to df.csv files for easier reading\n",
    "! mkdir data\n",
    "JCD_df.to_csv(r'./data/JCD_df.csv', header=False)\n",
    "Tamura_df.to_csv(r'./data/Tamura_df.csv', header=False)\n",
    "ColorLayout_df.to_csv(r'./data/ColorLayout_df.csv', header=False)\n",
    "EdgeHistogram_df.to_csv(r'./data/EdgeHistogram_df.csv', header=False)\n",
    "AutoColorCorrelogram_df.to_csv(r'./data/AutoColorCorrelogram_df.csv', header=False)\n",
    "PHOG_df.to_csv(r'./data/PHOG_df.csv', header=False)"
   ]
  },
  {
   "cell_type": "code",
   "execution_count": null,
   "metadata": {},
   "outputs": [],
   "source": [
    "# Reading from .csv files previously saved\n",
    "JCD_df = pd.read_csv(r'./data/JCD_df.csv', header=False)\n",
    "Tamura_df = pd.read_csv(r'./data/Tamura_df.csv', header=False)\n",
    "ColorLayout_df = pd.read_csv(r'./data/ColorLayout_df.csv', header=False)\n",
    "EdgeHistogram_df = pd.read_csv(r'./data/EdgeHistogram_df.csv', header=False)\n",
    "AutoColorCorrelogram_df = pd.read_csv(r'./data/AutoColorCorrelogram_df.csv', header=False)\n",
    "PHOG_df = pd.to_csv(r'./data/PHOG_df.csv', header=False)"
   ]
  },
  {
   "cell_type": "code",
   "execution_count": null,
   "metadata": {},
   "outputs": [],
   "source": [
    "# pd.concat([JCD_df.reset_index(drop=True), pd.Series(['dyed-lifted-polyps'], name='class_label'), pd.Series(['01d38b8f-74b2-4147-9519-448d05bf8745'], name='sample_name')], axis=1)"
   ]
  }
 ],
 "metadata": {
  "kernelspec": {
   "display_name": "Python 3",
   "language": "python",
   "name": "python3"
  },
  "language_info": {
   "codemirror_mode": {
    "name": "ipython",
    "version": 3
   },
   "file_extension": ".py",
   "mimetype": "text/x-python",
   "name": "python",
   "nbconvert_exporter": "python",
   "pygments_lexer": "ipython3",
   "version": "3.6.9"
  }
 },
 "nbformat": 4,
 "nbformat_minor": 4
}
